{
 "cells": [
  {
   "cell_type": "markdown",
   "metadata": {},
   "source": [
    "## [作業目標]\n",
    "了解機器學習適合應用的領域與範疇。"
   ]
  },
  {
   "cell_type": "markdown",
   "metadata": {},
   "source": [
    "## [作業重點]\n",
    "透過瞭解機器學習的運作方式，找出非常適用機器學習應用的領域及其原因"
   ]
  },
  {
   "cell_type": "markdown",
   "metadata": {},
   "source": [
    "## 作業\n",
    "請找出一個你認為機器學習可以發光發熱的領域並闡述原因? "
   ]
  },
  {
   "cell_type": "markdown",
   "metadata": {},
   "source": [
    "## [Ans]\n",
    "1.Fashion Industry  \n",
    "2.Fashion Industry發展歷史已久，第一，它有大量的資訊樣本可使用，像是服裝版型、款式搭配、顏色配色、布花樣是等等。第二，服裝等級可大致分為高級訂製、Ready-to-wear、一般成衣。Ready-to-wear和一般成衣，都需要有流行趨勢的分析，以先前累積的設計大量資訊、網路購物紀錄、顧客評價等等進行機器學習預測分析未來趨勢，來輔助設計師進行設計每一季的顏色使用、款式選擇、材料選擇。而不管是哪個等級的服裝都會需要打版，如果能有每個款式的樣衣樣本相關data，即可用機器學習來預測每個設計圖的版型，若前述成功發展，可以更進一步設定參數，針對人體活動量、服裝鬆份，做進一步的版型調整，可大大降低設計師對版型師的需求。第三，設計方面也可以有機器學習的參與，再確認主題的前提下，做符合流行趨勢的拼接，對於設計師來說大大提高設計的效率。"
   ]
  }
 ],
 "metadata": {
  "kernelspec": {
   "display_name": "Python 3",
   "language": "python",
   "name": "python3"
  },
  "language_info": {
   "codemirror_mode": {
    "name": "ipython",
    "version": 3
   },
   "file_extension": ".py",
   "mimetype": "text/x-python",
   "name": "python",
   "nbconvert_exporter": "python",
   "pygments_lexer": "ipython3",
   "version": "3.7.4"
  }
 },
 "nbformat": 4,
 "nbformat_minor": 2
}
