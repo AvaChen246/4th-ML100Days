{
 "cells": [
  {
   "cell_type": "markdown",
   "metadata": {},
   "source": [
    "# 作業目標:\n",
    "\n",
    "    通過建立多層的神經網路, 了解權值矩陣更新"
   ]
  },
  {
   "cell_type": "markdown",
   "metadata": {},
   "source": [
    "# 作業重點: \n",
    "\n",
    "3  層神經網路\n",
    "\n",
    "通過增加更多的中間層，以對更多關係的組合進行建模\n",
    "\n",
    "syn1 權值矩陣將隱層的組合輸出映射到最終結果，\n",
    "\n",
    "而在更新 syn1 的同時，還需要更新 syn0 權值矩陣，\n",
    "\n",
    "以從輸入資料中更好地產生這些組合"
   ]
  },
  {
   "cell_type": "code",
   "execution_count": 19,
   "metadata": {},
   "outputs": [],
   "source": [
    "import numpy as np\n",
    " \n",
    "# Sigmoid 函數可以將任何值都映射到一個位於 0 到  1 範圍內的值。通過它，我們可以將實數轉化為概率值\n",
    "def nonlin(x,deriv=False):\n",
    "    if(deriv==True):\n",
    "        return x*(1-x)\n",
    "    return 1/(1+np.exp(-x))\n",
    "\n",
    "X = np.array([  [0,0,1],\n",
    "                [0,1,1],\n",
    "                [1,0,1],\n",
    "                [1,1,1] ])  \n",
    "        \n",
    "# define y for output dataset            \n",
    "y = np.array([[0,1,0,1]]).T "
   ]
  },
  {
   "cell_type": "code",
   "execution_count": 20,
   "metadata": {},
   "outputs": [
    {
     "name": "stdout",
     "output_type": "stream",
     "text": [
      "originalWeights:\n",
      "syn0:\n",
      " [[-0.16595599  0.44064899 -0.99977125]\n",
      " [-0.39533485 -0.70648822 -0.81532281]\n",
      " [-0.62747958 -0.30887855 -0.20646505]] \n",
      "syn1:\n",
      " [[ 0.07763347]\n",
      " [-0.16161097]\n",
      " [ 0.370439  ]]\n"
     ]
    }
   ],
   "source": [
    "\n",
    "# seed random numbers to make calculation\n",
    "# deterministic (just a good practice)\n",
    "np.random.seed(1)\n",
    "#亂數設定產生種子得到的權重初始化集仍是隨機分佈的，\n",
    "#但每次開始訓練時，得到的權重初始集分佈都是完全一致的。\n",
    " \n",
    "# initialize weights randomly with mean 0 \n",
    "syn0 = 2*np.random.random((3,3)) - 1 #(3x3)\n",
    "syn1 = 2*np.random.random((3,1)) - 1 #(3x1)\n",
    "\n",
    "iter = 0\n",
    "#該神經網路權重矩陣的初始化操作。\n",
    "#用 “syn0” 來代指 (即“輸入層-第一層隱層”間權重矩陣）\n",
    "#用 “syn1” 來代指 (即“輸入層-第二層隱層”間權重矩陣）\n",
    "print('originalWeights:\\nsyn0:\\n',syn0,'\\nsyn1:\\n',syn1)\n",
    "\n"
   ]
  },
  {
   "cell_type": "markdown",
   "metadata": {},
   "source": [
    "神經網路訓練\n",
    "for 迴圈反覆運算式地多次執行訓練代碼，使得我們的網路能更好地擬合訓練集"
   ]
  },
  {
   "cell_type": "code",
   "execution_count": 21,
   "metadata": {},
   "outputs": [
    {
     "name": "stdout",
     "output_type": "stream",
     "text": [
      "NewWeights:\n",
      "syn0:\n",
      " [[-0.10668529  0.43221247 -0.96422008]\n",
      " [ 3.80435852 -5.42885675 -1.45409604]\n",
      " [-1.28209666  2.02022362 -0.1151782 ]] \n",
      "syn1:\n",
      " [[ 5.99729205]\n",
      " [-6.89549353]\n",
      " [-0.98203359]]\n"
     ]
    }
   ],
   "source": [
    "for iter in range(10000):\n",
    "    # forward propagation\n",
    "    l0 = X                        #(4x3)\n",
    "    l1 = nonlin(np.dot(l0,syn0))  #(4x3)(3x3)=(4x3) f1(s)\n",
    "    l2 = nonlin(np.dot(l1,syn1))  #(4x3)(3x1)=(4x1) f2(z)\n",
    "\n",
    "    l2_delta = (y - l2)*nonlin(l2,True) #(4x1)\n",
    "    syn1 += np.dot(l1.T,l2_delta) #(3x4)(4x1)=(3x1)\n",
    "    l1_delta = np.dot(((y - l2) * nonlin(l2,True)),syn1.T)*nonlin(l1,True) #(4x3)\n",
    "    syn0 += np.dot(l0.T,l1_delta) #(3x4)(4x3)=((3x3))\n",
    "    \n",
    "print('NewWeights:\\nsyn0:\\n',syn0,'\\nsyn1:\\n',syn1)"
   ]
  },
  {
   "cell_type": "code",
   "execution_count": 22,
   "metadata": {},
   "outputs": [
    {
     "name": "stdout",
     "output_type": "stream",
     "text": [
      "[[0.00522918]\n",
      " [0.9942999 ]\n",
      " [0.00449206]\n",
      " [0.99393349]]\n"
     ]
    }
   ],
   "source": [
    "#驗證\n",
    "l0 = X                        #(4x3)\n",
    "l1 = nonlin(np.dot(l0,syn0))  #(4x3)(3x3)=(4x3) f1(s)\n",
    "l2 = nonlin(np.dot(l1,syn1))  #(4x3)(3x1)=(4x1) f2(z)\n",
    "print(l2)"
   ]
  }
 ],
 "metadata": {
  "kernelspec": {
   "display_name": "Python tf2.1",
   "language": "python",
   "name": "tf_2.1"
  },
  "language_info": {
   "codemirror_mode": {
    "name": "ipython",
    "version": 3
   },
   "file_extension": ".py",
   "mimetype": "text/x-python",
   "name": "python",
   "nbconvert_exporter": "python",
   "pygments_lexer": "ipython3",
   "version": "3.7.7"
  }
 },
 "nbformat": 4,
 "nbformat_minor": 2
}
