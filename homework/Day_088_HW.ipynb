{
 "cells": [
  {
   "cell_type": "markdown",
   "metadata": {},
   "source": [
    "## Work\n",
    "1. 請嘗試寫一個 callback 用來記錄各類別在訓練過程中，對驗證集的 True Positive 與 True Negative"
   ]
  },
  {
   "cell_type": "code",
   "execution_count": 1,
   "metadata": {},
   "outputs": [
    {
     "name": "stderr",
     "output_type": "stream",
     "text": [
      "Using TensorFlow backend.\n"
     ]
    }
   ],
   "source": [
    "import os\n",
    "import keras\n",
    "\n",
    "# Disable GPU\n",
    "os.environ[\"CUDA_VISIBLE_DEVICES\"] = \"0\""
   ]
  },
  {
   "cell_type": "code",
   "execution_count": 2,
   "metadata": {},
   "outputs": [],
   "source": [
    "#Blas GEMM launch failed , 避免動態分配GPU / CPU, 出現問題\n",
    "import tensorflow as tf\n",
    "gpu_options = tf.compat.v1.GPUOptions(per_process_gpu_memory_fraction=0.333)\n",
    "sess = tf.compat.v1.Session(config=tf.compat.v1.ConfigProto(gpu_options=gpu_options))"
   ]
  },
  {
   "cell_type": "code",
   "execution_count": 3,
   "metadata": {},
   "outputs": [],
   "source": [
    "train, test = keras.datasets.cifar10.load_data()"
   ]
  },
  {
   "cell_type": "code",
   "execution_count": 4,
   "metadata": {},
   "outputs": [],
   "source": [
    "## 資料前處理\n",
    "def preproc_x(x, flatten=True):\n",
    "    x = x / 255.\n",
    "    if flatten:\n",
    "        x = x.reshape((len(x), -1))\n",
    "    return x\n",
    "\n",
    "def preproc_y(y, num_classes=10):\n",
    "    if y.shape[-1] == 1:\n",
    "        y = keras.utils.to_categorical(y, num_classes)\n",
    "    return y    "
   ]
  },
  {
   "cell_type": "code",
   "execution_count": 5,
   "metadata": {},
   "outputs": [],
   "source": [
    "x_train, y_train = train\n",
    "x_test, y_test = test\n",
    "\n",
    "# Preproc the inputs\n",
    "x_train = preproc_x(x_train)\n",
    "x_test = preproc_x(x_test)\n",
    "\n",
    "# Preprc the outputs\n",
    "y_train = preproc_y(y_train)\n",
    "y_test = preproc_y(y_test)"
   ]
  },
  {
   "cell_type": "code",
   "execution_count": 6,
   "metadata": {},
   "outputs": [],
   "source": [
    "from keras.layers import BatchNormalization\n",
    "def build_mlp(input_shape, output_units=10, num_neurons=[256, 256, 256]):\n",
    "    input_layer = keras.layers.Input(input_shape)\n",
    "    \n",
    "    for i, n_units in enumerate(num_neurons):\n",
    "        if i == 0:\n",
    "            x = keras.layers.Dense(units=n_units, \n",
    "                                   activation=\"relu\", \n",
    "                                   name=\"hidden_layer\"+str(i+1))(input_layer)\n",
    "            x = BatchNormalization()(x)\n",
    "        else:\n",
    "            x = keras.layers.Dense(units=n_units, \n",
    "                                   activation=\"relu\", \n",
    "                                   name=\"hidden_layer\"+str(i+1))(x)\n",
    "            x = BatchNormalization()(x)\n",
    "    \n",
    "    out = keras.layers.Dense(units=output_units, activation=\"softmax\", name=\"output\")(x)\n",
    "    \n",
    "    model = keras.models.Model(inputs=[input_layer], outputs=[out])\n",
    "    return model"
   ]
  },
  {
   "cell_type": "code",
   "execution_count": 7,
   "metadata": {},
   "outputs": [],
   "source": [
    "## 超參數設定\n",
    "LEARNING_RATE = 1e-3\n",
    "EPOCHS = 25\n",
    "BATCH_SIZE = 1024\n",
    "MOMENTUM = 0.95"
   ]
  },
  {
   "cell_type": "code",
   "execution_count": 10,
   "metadata": {},
   "outputs": [],
   "source": [
    "# 載入 Callbacks\n",
    "from keras.callbacks import Callback\n",
    "\n",
    "# Record_fp_tp\n",
    "class Record_tp_tn(Callback):\n",
    "    #撰寫一個紀錄 ture positive 與 true negative 數量的 callbacks    \n",
    "    def on_train_begin(self, epoch, logs = {}):\n",
    "        logs = logs or {}\n",
    "        record_items = [\"val_auc\", \"val_f1sc\", \"val_fp\", \"val_fn\", \"val_tp\", \"val_tn\"]\n",
    "        for i in record_items:\n",
    "            if i not in self.params['metrics']:\n",
    "                self.params['metrics'].append(i)\n",
    "    \n",
    "    def on_epoch_end(self, epoch, logs = {}):\n",
    "        logs = logs or {}\n",
    "        y_true = self.validation_data[1].argmax(axis = 1)\n",
    "        y_pred = self.model.predict(self.validation_data[0])\n",
    "        y_pred = y_pred.argmax(axis = 1)\n",
    "        \n",
    "        tp=[]\n",
    "        tn=[]\n",
    "        for i,j in zip(y_true,y_pred):\n",
    "            tp.append(i==j)\n",
    "            tn.append(i!=j)\n",
    "        logs[\"val_tp\"] = sum(tp)\n",
    "        logs[\"val_tn\"] = sum(tn)\n",
    "        \n",
    "rec_tptn = Record_tp_tn()"
   ]
  },
  {
   "cell_type": "code",
   "execution_count": 11,
   "metadata": {
    "scrolled": true
   },
   "outputs": [
    {
     "name": "stdout",
     "output_type": "stream",
     "text": [
      "Model: \"model_1\"\n",
      "_________________________________________________________________\n",
      "Layer (type)                 Output Shape              Param #   \n",
      "=================================================================\n",
      "input_1 (InputLayer)         (None, 3072)              0         \n",
      "_________________________________________________________________\n",
      "hidden_layer1 (Dense)        (None, 256)               786688    \n",
      "_________________________________________________________________\n",
      "batch_normalization_1 (Batch (None, 256)               1024      \n",
      "_________________________________________________________________\n",
      "hidden_layer2 (Dense)        (None, 256)               65792     \n",
      "_________________________________________________________________\n",
      "batch_normalization_2 (Batch (None, 256)               1024      \n",
      "_________________________________________________________________\n",
      "hidden_layer3 (Dense)        (None, 256)               65792     \n",
      "_________________________________________________________________\n",
      "batch_normalization_3 (Batch (None, 256)               1024      \n",
      "_________________________________________________________________\n",
      "output (Dense)               (None, 10)                2570      \n",
      "=================================================================\n",
      "Total params: 923,914\n",
      "Trainable params: 922,378\n",
      "Non-trainable params: 1,536\n",
      "_________________________________________________________________\n",
      "Train on 50000 samples, validate on 10000 samples\n",
      "Epoch 1/25\n",
      "50000/50000 [==============================] - 2s 40us/step - loss: 2.1763 - accuracy: 0.2773 - val_loss: 2.1549 - val_accuracy: 0.2142\n",
      "Epoch 2/25\n",
      "50000/50000 [==============================] - 2s 31us/step - loss: 1.7469 - accuracy: 0.3917 - val_loss: 1.9984 - val_accuracy: 0.2904\n",
      "Epoch 3/25\n",
      "50000/50000 [==============================] - 2s 31us/step - loss: 1.6218 - accuracy: 0.4296 - val_loss: 1.8466 - val_accuracy: 0.3553\n",
      "Epoch 4/25\n",
      "50000/50000 [==============================] - 2s 31us/step - loss: 1.5493 - accuracy: 0.4564 - val_loss: 1.7142 - val_accuracy: 0.3953\n",
      "Epoch 5/25\n",
      "50000/50000 [==============================] - 2s 30us/step - loss: 1.4989 - accuracy: 0.4767 - val_loss: 1.6407 - val_accuracy: 0.4215\n",
      "Epoch 6/25\n",
      "50000/50000 [==============================] - 2s 31us/step - loss: 1.4525 - accuracy: 0.4909 - val_loss: 1.5917 - val_accuracy: 0.4367\n",
      "Epoch 7/25\n",
      "50000/50000 [==============================] - 2s 39us/step - loss: 1.4174 - accuracy: 0.5052 - val_loss: 1.5410 - val_accuracy: 0.4529\n",
      "Epoch 8/25\n",
      "50000/50000 [==============================] - 2s 31us/step - loss: 1.3826 - accuracy: 0.5167 - val_loss: 1.5185 - val_accuracy: 0.4555\n",
      "Epoch 9/25\n",
      "50000/50000 [==============================] - 2s 32us/step - loss: 1.3533 - accuracy: 0.5281 - val_loss: 1.5029 - val_accuracy: 0.4683\n",
      "Epoch 10/25\n",
      "50000/50000 [==============================] - 2s 31us/step - loss: 1.3242 - accuracy: 0.5382 - val_loss: 1.4913 - val_accuracy: 0.4686\n",
      "Epoch 11/25\n",
      "50000/50000 [==============================] - 2s 31us/step - loss: 1.2998 - accuracy: 0.5463 - val_loss: 1.4949 - val_accuracy: 0.4674\n",
      "Epoch 12/25\n",
      "50000/50000 [==============================] - 2s 30us/step - loss: 1.2743 - accuracy: 0.5559 - val_loss: 1.4842 - val_accuracy: 0.4752\n",
      "Epoch 13/25\n",
      "50000/50000 [==============================] - 1s 29us/step - loss: 1.2517 - accuracy: 0.5631 - val_loss: 1.4646 - val_accuracy: 0.4823\n",
      "Epoch 14/25\n",
      "50000/50000 [==============================] - 1s 29us/step - loss: 1.2290 - accuracy: 0.5731 - val_loss: 1.4705 - val_accuracy: 0.4837\n",
      "Epoch 15/25\n",
      "50000/50000 [==============================] - 1s 29us/step - loss: 1.2095 - accuracy: 0.5777 - val_loss: 1.4693 - val_accuracy: 0.4838\n",
      "Epoch 16/25\n",
      "50000/50000 [==============================] - 1s 29us/step - loss: 1.1889 - accuracy: 0.5864 - val_loss: 1.4689 - val_accuracy: 0.4844\n",
      "Epoch 17/25\n",
      "50000/50000 [==============================] - 1s 29us/step - loss: 1.1669 - accuracy: 0.5941 - val_loss: 1.4559 - val_accuracy: 0.4919\n",
      "Epoch 18/25\n",
      "50000/50000 [==============================] - 1s 29us/step - loss: 1.1484 - accuracy: 0.6014 - val_loss: 1.4475 - val_accuracy: 0.4958\n",
      "Epoch 19/25\n",
      "50000/50000 [==============================] - 2s 32us/step - loss: 1.1304 - accuracy: 0.6072 - val_loss: 1.4484 - val_accuracy: 0.4952\n",
      "Epoch 20/25\n",
      "50000/50000 [==============================] - 1s 30us/step - loss: 1.1119 - accuracy: 0.6158 - val_loss: 1.4463 - val_accuracy: 0.4945\n",
      "Epoch 21/25\n",
      "50000/50000 [==============================] - 1s 30us/step - loss: 1.0925 - accuracy: 0.6252 - val_loss: 1.4503 - val_accuracy: 0.4959\n",
      "Epoch 22/25\n",
      "50000/50000 [==============================] - 2s 30us/step - loss: 1.0758 - accuracy: 0.6316 - val_loss: 1.4464 - val_accuracy: 0.4941\n",
      "Epoch 23/25\n",
      "50000/50000 [==============================] - 2s 30us/step - loss: 1.0590 - accuracy: 0.6354 - val_loss: 1.4460 - val_accuracy: 0.4999\n",
      "Epoch 24/25\n",
      "50000/50000 [==============================] - 2s 30us/step - loss: 1.0400 - accuracy: 0.6440 - val_loss: 1.4474 - val_accuracy: 0.4945\n",
      "Epoch 25/25\n",
      "50000/50000 [==============================] - 2s 30us/step - loss: 1.0253 - accuracy: 0.6486 - val_loss: 1.4509 - val_accuracy: 0.4955\n"
     ]
    }
   ],
   "source": [
    "keras.backend.clear_session() # 把舊的 Graph 清掉\n",
    "model = build_mlp(input_shape=x_train.shape[1:])\n",
    "model.summary()\n",
    "optimizer = keras.optimizers.SGD(lr=LEARNING_RATE, nesterov=True, momentum=MOMENTUM)\n",
    "model.compile(loss=\"categorical_crossentropy\", metrics=[\"accuracy\"], optimizer=optimizer)\n",
    "\n",
    "\"\"\"Code Here\n",
    "將 callbacks 放入模型訓練流程中\n",
    "\"\"\"\n",
    "model.fit(x_train, y_train, \n",
    "          epochs=EPOCHS, \n",
    "          batch_size=BATCH_SIZE, \n",
    "          validation_data=(x_test, y_test), \n",
    "          shuffle=True,\n",
    "          callbacks=[rec_tptn])\n",
    "\n",
    "# Collect results\n",
    "train_loss = model.history.history[\"loss\"]\n",
    "valid_loss = model.history.history[\"val_loss\"]\n",
    "train_acc = model.history.history[\"accuracy\"]\n",
    "valid_acc = model.history.history[\"val_accuracy\"]\n",
    "\n",
    "\"\"\"Code Here\n",
    "將 tp/tn 從訓練完的模型中取出\n",
    "\"\"\"\n",
    "valid_tp = model.history.history['val_tp']\n",
    "valid_tn = model.history.history['val_tn'] "
   ]
  },
  {
   "cell_type": "code",
   "execution_count": 12,
   "metadata": {},
   "outputs": [
    {
     "data": {
      "image/png": "[encoded data removed]",
      "text/plain": [
       "<Figure size 432x288 with 1 Axes>"
      ]
     },
     "metadata": {
      "needs_background": "light"
     },
     "output_type": "display_data"
    },
    {
     "data": {
      "image/png": "[encoded data removed]",
      "text/plain": [
       "<Figure size 432x288 with 1 Axes>"
      ]
     },
     "metadata": {
      "needs_background": "light"
     },
     "output_type": "display_data"
    },
    {
     "data": {
      "image/png": "[encoded data removed]",
      "text/plain": [
       "<Figure size 432x288 with 1 Axes>"
      ]
     },
     "metadata": {
      "needs_background": "light"
     },
     "output_type": "display_data"
    }
   ],
   "source": [
    "import matplotlib.pyplot as plt\n",
    "%matplotlib inline\n",
    "\n",
    "plt.plot(range(len(train_loss)), train_loss, label=\"train loss\")\n",
    "plt.plot(range(len(valid_loss)), valid_loss, label=\"valid loss\")\n",
    "plt.legend()\n",
    "plt.title(\"Loss\")\n",
    "plt.show()\n",
    "\n",
    "plt.plot(range(len(train_acc)), train_acc, label=\"train accuracy\")\n",
    "plt.plot(range(len(valid_acc)), valid_acc, label=\"valid accuracy\")\n",
    "plt.legend()\n",
    "plt.title(\"Accuracy\")\n",
    "plt.show()\n",
    "\n",
    "plt.plot(range(len(valid_tp)), valid_tp, label=\"valid tp\", color=\"navy\")\n",
    "plt.plot(range(len(valid_tn)), valid_tn, label=\"valid tn\", color=\"red\")\n",
    "plt.legend()\n",
    "plt.title(\"True positives and True Negatives\")\n",
    "plt.show()\n"
   ]
  }
 ],
 "metadata": {
  "kernelspec": {
   "display_name": "Python tf2.1",
   "language": "python",
   "name": "tf_2.1"
  },
  "language_info": {
   "codemirror_mode": {
    "name": "ipython",
    "version": 3
   },
   "file_extension": ".py",
   "mimetype": "text/x-python",
   "name": "python",
   "nbconvert_exporter": "python",
   "pygments_lexer": "ipython3",
   "version": "3.7.7"
  }
 },
 "nbformat": 4,
 "nbformat_minor": 2
}
