{
 "cells": [
  {
   "cell_type": "markdown",
   "metadata": {},
   "source": [
    "# 作業目標:\n",
    "    \n",
    "    建立一個網路模型"
   ]
  },
  {
   "cell_type": "markdown",
   "metadata": {},
   "source": [
    "# 作業重點:\n",
    "\n",
    "請修改 Name 中, 自定義的 Layer 名稱\n",
    "\n",
    "增加一層全連階層\n",
    "\n",
    "宣告 MODEL API, 分別採用自行定義的 Input/Output Layer\n",
    "\n",
    "model.summary 查看 Layers stack"
   ]
  },
  {
   "cell_type": "code",
   "execution_count": 2,
   "metadata": {},
   "outputs": [],
   "source": [
    "from keras.layers import Input, Embedding, LSTM, Dense\n",
    "from keras.models import Model\n",
    "import keras\n",
    "#主要輸入接收新聞標題本身，即一個整數序列（每個整數編碼一個詞）。\n",
    "#這些整數在1 到10,000 之間（10,000 個詞的詞彙表），且序列長度為100 個詞\n",
    "#宣告一個 NAME 去定義Input\n",
    "main_input = Input(shape=(100,), dtype='int32', name='Title_of_News')\n",
    "\n",
    "\n",
    "# Embedding 層將輸入序列編碼為一個稠密向量的序列，\n",
    "# 每個向量維度為 512。\n",
    "x = Embedding(output_dim=512, input_dim=10000, input_length=100, name='Embedding')(main_input)\n",
    "\n",
    "# LSTM 層把向量序列轉換成單個向量，\n",
    "# 它包含整個序列的上下文信息\n",
    "lstm_out = LSTM(32)(x)"
   ]
  },
  {
   "cell_type": "code",
   "execution_count": 3,
   "metadata": {},
   "outputs": [],
   "source": [
    "#插入輔助損失，使得即使在模型主損失很高的情況下，LSTM 層和Embedding 層都能被平穩地訓練\n",
    "news_output = Dense(1, activation='sigmoid', name='news_out')(lstm_out)"
   ]
  },
  {
   "cell_type": "code",
   "execution_count": 5,
   "metadata": {},
   "outputs": [],
   "source": [
    "#輔助輸入數據與LSTM 層的輸出連接起來，輸入到模型\n",
    "news_input = Input(shape=(5,), name='news_in')\n",
    "x = keras.layers.concatenate([lstm_out, news_input])\n",
    "#自行增加\n",
    "news_output2 = Dense(1, activation='sigmoid', name='news_out2')(x)\n",
    "news_input2 = Input(shape=(5,), name='news_in2')\n",
    "x = keras.layers.concatenate([x, news_input2])\n",
    "\n",
    "# 堆疊多個全連接網路層\n",
    "x = Dense(64, activation='relu',name='HiddenLayer1')(x)\n",
    "x = Dense(64, activation='relu',name='HiddenLayer2')(x)\n",
    "x = Dense(64, activation='relu',name='HiddenLayer3')(x)\n",
    "x = Dense(64, activation='relu',name='HiddenLayer4')(x)\n",
    "\n",
    "\n",
    "# 最後添加主要的邏輯回歸層\n",
    "main_output = Dense(1, activation='sigmoid', name='main_output')(x)"
   ]
  },
  {
   "cell_type": "code",
   "execution_count": 7,
   "metadata": {},
   "outputs": [],
   "source": [
    "# 宣告 MODEL API, 分別採用自行定義的 Input/Output Layer\n",
    "model = Model(inputs=[main_input, news_input,news_input2], outputs=[main_output, news_output,news_output2])"
   ]
  },
  {
   "cell_type": "code",
   "execution_count": 8,
   "metadata": {},
   "outputs": [],
   "source": [
    "model.compile(optimizer='rmsprop',\n",
    "              loss={'main_output': 'binary_crossentropy', 'news_out': 'binary_crossentropy','news_out2':'binary_crossentropy'},\n",
    "              loss_weights={'main_output': 1., 'news_out': 0.2, 'news_out2':0.1})\n",
    "\n",
    "\n",
    "\n"
   ]
  },
  {
   "cell_type": "code",
   "execution_count": 9,
   "metadata": {},
   "outputs": [
    {
     "name": "stdout",
     "output_type": "stream",
     "text": [
      "Model: \"model_1\"\n",
      "__________________________________________________________________________________________________\n",
      "Layer (type)                    Output Shape         Param #     Connected to                     \n",
      "==================================================================================================\n",
      "Title_of_News (InputLayer)      (None, 100)          0                                            \n",
      "__________________________________________________________________________________________________\n",
      "Embedding (Embedding)           (None, 100, 512)     5120000     Title_of_News[0][0]              \n",
      "__________________________________________________________________________________________________\n",
      "lstm_1 (LSTM)                   (None, 32)           69760       Embedding[0][0]                  \n",
      "__________________________________________________________________________________________________\n",
      "news_in (InputLayer)            (None, 5)            0                                            \n",
      "__________________________________________________________________________________________________\n",
      "concatenate_1 (Concatenate)     (None, 37)           0           lstm_1[0][0]                     \n",
      "                                                                 news_in[0][0]                    \n",
      "__________________________________________________________________________________________________\n",
      "news_in2 (InputLayer)           (None, 5)            0                                            \n",
      "__________________________________________________________________________________________________\n",
      "concatenate_2 (Concatenate)     (None, 42)           0           concatenate_1[0][0]              \n",
      "                                                                 news_in2[0][0]                   \n",
      "__________________________________________________________________________________________________\n",
      "HiddenLayer1 (Dense)            (None, 64)           2752        concatenate_2[0][0]              \n",
      "__________________________________________________________________________________________________\n",
      "HiddenLayer2 (Dense)            (None, 64)           4160        HiddenLayer1[0][0]               \n",
      "__________________________________________________________________________________________________\n",
      "HiddenLayer3 (Dense)            (None, 64)           4160        HiddenLayer2[0][0]               \n",
      "__________________________________________________________________________________________________\n",
      "HiddenLayer4 (Dense)            (None, 64)           4160        HiddenLayer3[0][0]               \n",
      "__________________________________________________________________________________________________\n",
      "main_output (Dense)             (None, 1)            65          HiddenLayer4[0][0]               \n",
      "__________________________________________________________________________________________________\n",
      "news_out (Dense)                (None, 1)            33          lstm_1[0][0]                     \n",
      "__________________________________________________________________________________________________\n",
      "news_out2 (Dense)               (None, 1)            38          concatenate_1[0][0]              \n",
      "==================================================================================================\n",
      "Total params: 5,205,128\n",
      "Trainable params: 5,205,128\n",
      "Non-trainable params: 0\n",
      "__________________________________________________________________________________________________\n"
     ]
    }
   ],
   "source": [
    "model.summary()"
   ]
  }
 ],
 "metadata": {
  "kernelspec": {
   "display_name": "Python 3",
   "language": "python",
   "name": "python3"
  },
  "language_info": {
   "codemirror_mode": {
    "name": "ipython",
    "version": 3
   },
   "file_extension": ".py",
   "mimetype": "text/x-python",
   "name": "python",
   "nbconvert_exporter": "python",
   "pygments_lexer": "ipython3",
   "version": "3.7.4"
  }
 },
 "nbformat": 4,
 "nbformat_minor": 2
}
