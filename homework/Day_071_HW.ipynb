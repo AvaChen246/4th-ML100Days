{
 "cells": [
  {
   "cell_type": "markdown",
   "metadata": {
    "colab_type": "text",
    "id": "cj4tE8e8iUtO"
   },
   "source": [
    "#   \n",
    "\n",
    "# 作業目標:\n",
    "\n",
    "    1. 藉由固定的 dataset, 來驗證不同loss function\n",
    "    2. Dataset 的特性跟我們選用的loss function 對accrancy 的影響\n",
    "    \n",
    "    \n",
    "# 作業重點: \n",
    "    請分別選用 \"MSE\", \"binary _crossentropy\"\n",
    "    查看Train/test accurancy and loss rate\n",
    "    "
   ]
  },
  {
   "cell_type": "markdown",
   "metadata": {},
   "source": [
    "Compare results between different loss functions with same testData  \n",
    ">'categorical_crossentropy': accuracy= 0.6402000188827515 loss= 1.1034793905258178  \n",
    "'MSE'                     : accuracy= 0.6541000008583069 loss= 0.050243260014057156  \n",
    "'binary_crossentropy'     : accuracy= 0.9331197142601013 loss= 0.1692422109603882  \n"
   ]
  },
  {
   "cell_type": "markdown",
   "metadata": {
    "colab_type": "text",
    "id": "R51J4KyyiUsL"
   },
   "source": [
    "# 導入必要的函數"
   ]
  },
  {
   "cell_type": "code",
   "execution_count": 1,
   "metadata": {
    "colab": {},
    "colab_type": "code",
    "id": "Qd68OQjciUsM"
   },
   "outputs": [
    {
     "name": "stderr",
     "output_type": "stream",
     "text": [
      "Using TensorFlow backend.\n"
     ]
    }
   ],
   "source": [
    "from keras.datasets import cifar10\n",
    "import numpy as np\n",
    "np.random.seed(10)"
   ]
  },
  {
   "cell_type": "markdown",
   "metadata": {
    "colab_type": "text",
    "id": "GxKuzQLQiUsP"
   },
   "source": [
    "# 資料準備"
   ]
  },
  {
   "cell_type": "code",
   "execution_count": 2,
   "metadata": {
    "colab": {},
    "colab_type": "code",
    "id": "MIbFZdTCiUsQ"
   },
   "outputs": [],
   "source": [
    "#取得Keras Dataset\n",
    "(x_img_train,y_label_train),(x_img_test,y_label_test)=cifar10.load_data()"
   ]
  },
  {
   "cell_type": "code",
   "execution_count": 3,
   "metadata": {
    "colab": {},
    "colab_type": "code",
    "id": "J8CJVjNOiUsS"
   },
   "outputs": [
    {
     "name": "stdout",
     "output_type": "stream",
     "text": [
      "train data: images: (50000, 32, 32, 3)  labels: (50000, 1)\n",
      "test  data: images: (10000, 32, 32, 3)  labels: (10000, 1)\n"
     ]
    }
   ],
   "source": [
    "#確認 CIFAR10 Dataset 資料維度\n",
    "print(\"train data:\",'images:',x_img_train.shape,\n",
    "      \" labels:\",y_label_train.shape) \n",
    "print(\"test  data:\",'images:',x_img_test.shape ,\n",
    "      \" labels:\",y_label_test.shape) "
   ]
  },
  {
   "cell_type": "code",
   "execution_count": 4,
   "metadata": {
    "colab": {},
    "colab_type": "code",
    "id": "V3P6P4DXiUsV"
   },
   "outputs": [],
   "source": [
    "#資料正規化\n",
    "x_img_train_normalize = x_img_train.astype('float32') / 255.0\n",
    "x_img_test_normalize = x_img_test.astype('float32') / 255.0"
   ]
  },
  {
   "cell_type": "code",
   "execution_count": 5,
   "metadata": {
    "colab": {},
    "colab_type": "code",
    "id": "vsDyjKYliUsX"
   },
   "outputs": [
    {
     "data": {
      "text/plain": [
       "(10000, 10)"
      ]
     },
     "execution_count": 5,
     "metadata": {},
     "output_type": "execute_result"
    }
   ],
   "source": [
    "#針對Label 做 ONE HOT ENCODE\n",
    "from keras.utils import np_utils\n",
    "y_label_train_OneHot = np_utils.to_categorical(y_label_train)\n",
    "y_label_test_OneHot = np_utils.to_categorical(y_label_test)\n",
    "y_label_test_OneHot.shape"
   ]
  },
  {
   "cell_type": "markdown",
   "metadata": {
    "colab_type": "text",
    "id": "RutW2OtgiUsZ"
   },
   "source": [
    "# 建立模型"
   ]
  },
  {
   "cell_type": "code",
   "execution_count": 6,
   "metadata": {
    "colab": {},
    "colab_type": "code",
    "id": "aHz592aXiUsa"
   },
   "outputs": [],
   "source": [
    "from keras.models import Sequential\n",
    "from keras.layers import Dense, Dropout, Activation, Flatten\n",
    "from keras.layers import Conv2D, MaxPooling2D, ZeroPadding2D"
   ]
  },
  {
   "cell_type": "code",
   "execution_count": 7,
   "metadata": {
    "colab": {},
    "colab_type": "code",
    "id": "hslqrIp0iUse"
   },
   "outputs": [],
   "source": [
    "model = Sequential()"
   ]
  },
  {
   "cell_type": "code",
   "execution_count": 8,
   "metadata": {
    "colab": {},
    "colab_type": "code",
    "id": "Hqe35hs2iUsi"
   },
   "outputs": [],
   "source": [
    "#卷積層1"
   ]
  },
  {
   "cell_type": "code",
   "execution_count": 9,
   "metadata": {
    "colab": {},
    "colab_type": "code",
    "id": "ED7dqe1YiUsm"
   },
   "outputs": [],
   "source": [
    "model.add(Conv2D(filters=32,kernel_size=(3,3),\n",
    "                 input_shape=(32, 32,3), \n",
    "                 activation='relu', \n",
    "                 padding='same'))"
   ]
  },
  {
   "cell_type": "code",
   "execution_count": 10,
   "metadata": {
    "colab": {},
    "colab_type": "code",
    "id": "n-GRKmPViUso"
   },
   "outputs": [],
   "source": [
    "model.add(Dropout(rate=0.25))"
   ]
  },
  {
   "cell_type": "code",
   "execution_count": 11,
   "metadata": {
    "colab": {},
    "colab_type": "code",
    "id": "GlWnnD1uiUsw"
   },
   "outputs": [],
   "source": [
    "model.add(MaxPooling2D(pool_size=(2, 2)))"
   ]
  },
  {
   "cell_type": "code",
   "execution_count": 12,
   "metadata": {
    "colab": {},
    "colab_type": "code",
    "id": "nawlkt55iUsy"
   },
   "outputs": [],
   "source": [
    "#卷積層2與池化層2"
   ]
  },
  {
   "cell_type": "code",
   "execution_count": 13,
   "metadata": {
    "colab": {},
    "colab_type": "code",
    "id": "xxyETiKNiUs1"
   },
   "outputs": [],
   "source": [
    "model.add(Conv2D(filters=64, kernel_size=(3, 3), \n",
    "                 activation='relu', padding='same'))"
   ]
  },
  {
   "cell_type": "code",
   "execution_count": 14,
   "metadata": {
    "colab": {},
    "colab_type": "code",
    "id": "RqcKWtqGiUs2"
   },
   "outputs": [],
   "source": [
    "model.add(Dropout(0.25))"
   ]
  },
  {
   "cell_type": "code",
   "execution_count": 15,
   "metadata": {
    "colab": {},
    "colab_type": "code",
    "id": "BUOOzlqfiUs4"
   },
   "outputs": [],
   "source": [
    "model.add(MaxPooling2D(pool_size=(2, 2)))"
   ]
  },
  {
   "cell_type": "code",
   "execution_count": 16,
   "metadata": {
    "colab": {},
    "colab_type": "code",
    "id": "LpkppB2siUs7"
   },
   "outputs": [],
   "source": [
    "#建立神經網路(平坦層、隱藏層、輸出層)"
   ]
  },
  {
   "cell_type": "code",
   "execution_count": 17,
   "metadata": {
    "colab": {},
    "colab_type": "code",
    "id": "UQOfU54_iUs_"
   },
   "outputs": [],
   "source": [
    "model.add(Flatten())\n",
    "model.add(Dropout(rate=0.25))"
   ]
  },
  {
   "cell_type": "code",
   "execution_count": 18,
   "metadata": {
    "colab": {},
    "colab_type": "code",
    "id": "_NV-8sq4iUtD"
   },
   "outputs": [],
   "source": [
    "model.add(Dense(1024, activation='relu'))\n",
    "model.add(Dropout(rate=0.25))"
   ]
  },
  {
   "cell_type": "code",
   "execution_count": 19,
   "metadata": {
    "colab": {},
    "colab_type": "code",
    "id": "qVK77krOiUtF"
   },
   "outputs": [],
   "source": [
    "model.add(Dense(10, activation='softmax'))"
   ]
  },
  {
   "cell_type": "code",
   "execution_count": 20,
   "metadata": {
    "colab": {},
    "colab_type": "code",
    "id": "ZxzRIjR0iUtH"
   },
   "outputs": [
    {
     "name": "stdout",
     "output_type": "stream",
     "text": [
      "Model: \"sequential_1\"\n",
      "_________________________________________________________________\n",
      "Layer (type)                 Output Shape              Param #   \n",
      "=================================================================\n",
      "conv2d_1 (Conv2D)            (None, 32, 32, 32)        896       \n",
      "_________________________________________________________________\n",
      "dropout_1 (Dropout)          (None, 32, 32, 32)        0         \n",
      "_________________________________________________________________\n",
      "max_pooling2d_1 (MaxPooling2 (None, 16, 16, 32)        0         \n",
      "_________________________________________________________________\n",
      "conv2d_2 (Conv2D)            (None, 16, 16, 64)        18496     \n",
      "_________________________________________________________________\n",
      "dropout_2 (Dropout)          (None, 16, 16, 64)        0         \n",
      "_________________________________________________________________\n",
      "max_pooling2d_2 (MaxPooling2 (None, 8, 8, 64)          0         \n",
      "_________________________________________________________________\n",
      "flatten_1 (Flatten)          (None, 4096)              0         \n",
      "_________________________________________________________________\n",
      "dropout_3 (Dropout)          (None, 4096)              0         \n",
      "_________________________________________________________________\n",
      "dense_1 (Dense)              (None, 1024)              4195328   \n",
      "_________________________________________________________________\n",
      "dropout_4 (Dropout)          (None, 1024)              0         \n",
      "_________________________________________________________________\n",
      "dense_2 (Dense)              (None, 10)                10250     \n",
      "=================================================================\n",
      "Total params: 4,224,970\n",
      "Trainable params: 4,224,970\n",
      "Non-trainable params: 0\n",
      "_________________________________________________________________\n",
      "None\n"
     ]
    }
   ],
   "source": [
    "#檢查model 的STACK\n",
    "print(model.summary())"
   ]
  },
  {
   "cell_type": "markdown",
   "metadata": {
    "colab_type": "text",
    "id": "QJCtpJM0iUtJ"
   },
   "source": [
    "# 載入之前訓練的模型"
   ]
  },
  {
   "cell_type": "code",
   "execution_count": 21,
   "metadata": {
    "colab": {},
    "colab_type": "code",
    "id": "JU3A6NzQiUtK"
   },
   "outputs": [
    {
     "name": "stdout",
     "output_type": "stream",
     "text": [
      "載入模型失敗!開始訓練一個新模型\n"
     ]
    }
   ],
   "source": [
    "try:\n",
    "    model.load_weights(\"SaveModel/cifarCnnModel.h5\")\n",
    "    print(\"載入模型成功!繼續訓練模型\")\n",
    "except :    \n",
    "    print(\"載入模型失敗!開始訓練一個新模型\")"
   ]
  },
  {
   "cell_type": "markdown",
   "metadata": {
    "colab_type": "text",
    "id": "qBbCuziziUtM"
   },
   "source": [
    "# 訓練模型"
   ]
  },
  {
   "cell_type": "code",
   "execution_count": 30,
   "metadata": {},
   "outputs": [],
   "source": [
    "import matplotlib.pyplot as plt\n",
    "%matplotlib inline\n",
    "\n",
    "#定義一個繪圖函數\n",
    "def show_train_history(train_history,train,test):\n",
    "    plt.plot(train_history.history[train])\n",
    "    plt.plot(train_history.history[test])\n",
    "    plt.title('Train History')\n",
    "    plt.ylabel(train)\n",
    "    plt.xlabel('Epoch')\n",
    "    plt.legend(['Train', 'Val'], loc='upper left')\n",
    "    plt.show()"
   ]
  },
  {
   "cell_type": "code",
   "execution_count": 32,
   "metadata": {},
   "outputs": [],
   "source": [
    "def ModelCompile(loss_select):\n",
    "    model.compile(loss=loss_select, optimizer='sgd', metrics=['accuracy'])\n",
    "    train_history=model.fit(x_img_train_normalize, y_label_train_OneHot,\n",
    "                            validation_split=0.25,\n",
    "                            epochs=12, batch_size=128, verbose=1)\n",
    "    show_train_history(train_history,'accuracy','val_accuracy')\n",
    "    show_train_history(train_history,'loss','val_loss')\n",
    "    scores = model.evaluate(x_img_test_normalize, y_label_test_OneHot)\n",
    "    print('accuracy=',scores[1],'\\nloss=',scores[0]) "
   ]
  },
  {
   "cell_type": "code",
   "execution_count": 29,
   "metadata": {},
   "outputs": [
    {
     "name": "stdout",
     "output_type": "stream",
     "text": [
      "Train on 37500 samples, validate on 12500 samples\n",
      "Epoch 1/12\n",
      "37500/37500 [==============================] - 5s 123us/step - loss: 1.1295 - accuracy: 0.5981 - val_loss: 1.1997 - val_accuracy: 0.6120\n",
      "Epoch 2/12\n",
      "37500/37500 [==============================] - 4s 117us/step - loss: 1.1128 - accuracy: 0.6069 - val_loss: 1.1847 - val_accuracy: 0.6198\n",
      "Epoch 3/12\n",
      "37500/37500 [==============================] - 4s 117us/step - loss: 1.1005 - accuracy: 0.6106 - val_loss: 1.1768 - val_accuracy: 0.6181\n",
      "Epoch 4/12\n",
      "37500/37500 [==============================] - 4s 117us/step - loss: 1.0894 - accuracy: 0.6149 - val_loss: 1.1796 - val_accuracy: 0.6157\n",
      "Epoch 5/12\n",
      "37500/37500 [==============================] - 4s 117us/step - loss: 1.0846 - accuracy: 0.6158 - val_loss: 1.1716 - val_accuracy: 0.6234\n",
      "Epoch 6/12\n",
      "37500/37500 [==============================] - 4s 116us/step - loss: 1.0736 - accuracy: 0.6202 - val_loss: 1.1707 - val_accuracy: 0.6203\n",
      "Epoch 7/12\n",
      "37500/37500 [==============================] - 4s 116us/step - loss: 1.0545 - accuracy: 0.6265 - val_loss: 1.1655 - val_accuracy: 0.6205\n",
      "Epoch 8/12\n",
      "37500/37500 [==============================] - 4s 116us/step - loss: 1.0408 - accuracy: 0.6308 - val_loss: 1.1445 - val_accuracy: 0.6310\n",
      "Epoch 9/12\n",
      "37500/37500 [==============================] - 4s 115us/step - loss: 1.0305 - accuracy: 0.6358 - val_loss: 1.1327 - val_accuracy: 0.6341\n",
      "Epoch 10/12\n",
      "37500/37500 [==============================] - 4s 115us/step - loss: 1.0242 - accuracy: 0.6392 - val_loss: 1.1046 - val_accuracy: 0.6493\n",
      "Epoch 11/12\n",
      "37500/37500 [==============================] - 4s 115us/step - loss: 1.0164 - accuracy: 0.6399 - val_loss: 1.1093 - val_accuracy: 0.6458\n",
      "Epoch 12/12\n",
      "37500/37500 [==============================] - 4s 115us/step - loss: 1.0038 - accuracy: 0.6448 - val_loss: 1.1076 - val_accuracy: 0.6441\n"
     ]
    },
    {
     "data": {
      "image/png": "[encoded data removed]",
      "text/plain": [
       "<Figure size 432x288 with 1 Axes>"
      ]
     },
     "metadata": {
      "needs_background": "light"
     },
     "output_type": "display_data"
    },
    {
     "data": {
      "image/png": "[encoded data removed]",
      "text/plain": [
       "<Figure size 432x288 with 1 Axes>"
      ]
     },
     "metadata": {
      "needs_background": "light"
     },
     "output_type": "display_data"
    },
    {
     "name": "stdout",
     "output_type": "stream",
     "text": [
      "10000/10000 [==============================] - 1s 92us/step\n",
      "accuracy= 0.6402000188827515 \n",
      "loss 1.1034793905258178\n"
     ]
    }
   ],
   "source": [
    "ModelCompile(loss_select='categorical_crossentropy')"
   ]
  },
  {
   "cell_type": "code",
   "execution_count": 31,
   "metadata": {},
   "outputs": [
    {
     "name": "stdout",
     "output_type": "stream",
     "text": [
      "Train on 37500 samples, validate on 12500 samples\n",
      "Epoch 1/12\n",
      "37500/37500 [==============================] - 5s 121us/step - loss: 0.0465 - accuracy: 0.6569 - val_loss: 0.0505 - val_accuracy: 0.6545\n",
      "Epoch 2/12\n",
      "37500/37500 [==============================] - 4s 115us/step - loss: 0.0464 - accuracy: 0.6566 - val_loss: 0.0505 - val_accuracy: 0.6548\n",
      "Epoch 3/12\n",
      "37500/37500 [==============================] - 4s 115us/step - loss: 0.0462 - accuracy: 0.6587 - val_loss: 0.0503 - val_accuracy: 0.6545\n",
      "Epoch 4/12\n",
      "37500/37500 [==============================] - 4s 114us/step - loss: 0.0462 - accuracy: 0.6570 - val_loss: 0.0503 - val_accuracy: 0.6528\n",
      "Epoch 5/12\n",
      "37500/37500 [==============================] - 4s 114us/step - loss: 0.0460 - accuracy: 0.6600 - val_loss: 0.0502 - val_accuracy: 0.6538\n",
      "Epoch 6/12\n",
      "37500/37500 [==============================] - 4s 115us/step - loss: 0.0461 - accuracy: 0.6583 - val_loss: 0.0501 - val_accuracy: 0.6544\n",
      "Epoch 7/12\n",
      "37500/37500 [==============================] - 4s 116us/step - loss: 0.0461 - accuracy: 0.6592 - val_loss: 0.0501 - val_accuracy: 0.6563\n",
      "Epoch 8/12\n",
      "37500/37500 [==============================] - 4s 116us/step - loss: 0.0460 - accuracy: 0.6605 - val_loss: 0.0500 - val_accuracy: 0.6557\n",
      "Epoch 9/12\n",
      "37500/37500 [==============================] - 4s 116us/step - loss: 0.0460 - accuracy: 0.6598 - val_loss: 0.0500 - val_accuracy: 0.6565\n",
      "Epoch 10/12\n",
      "37500/37500 [==============================] - 4s 115us/step - loss: 0.0459 - accuracy: 0.6609 - val_loss: 0.0500 - val_accuracy: 0.6553\n",
      "Epoch 11/12\n",
      "37500/37500 [==============================] - 4s 113us/step - loss: 0.0460 - accuracy: 0.6618 - val_loss: 0.0499 - val_accuracy: 0.6553\n",
      "Epoch 12/12\n",
      "37500/37500 [==============================] - 4s 115us/step - loss: 0.0461 - accuracy: 0.6584 - val_loss: 0.0500 - val_accuracy: 0.6549\n"
     ]
    },
    {
     "data": {
      "image/png": "[encoded data removed]",
      "text/plain": [
       "<Figure size 432x288 with 1 Axes>"
      ]
     },
     "metadata": {
      "needs_background": "light"
     },
     "output_type": "display_data"
    },
    {
     "data": {
      "image/png": "[encoded data removed]",
      "text/plain": [
       "<Figure size 432x288 with 1 Axes>"
      ]
     },
     "metadata": {
      "needs_background": "light"
     },
     "output_type": "display_data"
    },
    {
     "name": "stdout",
     "output_type": "stream",
     "text": [
      "10000/10000 [==============================] - 1s 77us/step\n",
      "accuracy= 0.6541000008583069 \n",
      "loss 0.050243260014057156\n"
     ]
    }
   ],
   "source": [
    "ModelCompile('MSE')"
   ]
  },
  {
   "cell_type": "code",
   "execution_count": 33,
   "metadata": {},
   "outputs": [
    {
     "name": "stdout",
     "output_type": "stream",
     "text": [
      "Train on 37500 samples, validate on 12500 samples\n",
      "Epoch 1/12\n",
      "37500/37500 [==============================] - 5s 123us/step - loss: 0.1564 - accuracy: 0.9383 - val_loss: 0.1725 - val_accuracy: 0.9327\n",
      "Epoch 2/12\n",
      "37500/37500 [==============================] - 4s 116us/step - loss: 0.1554 - accuracy: 0.9387 - val_loss: 0.1713 - val_accuracy: 0.9332\n",
      "Epoch 3/12\n",
      "37500/37500 [==============================] - 4s 116us/step - loss: 0.1552 - accuracy: 0.9389 - val_loss: 0.1717 - val_accuracy: 0.9332\n",
      "Epoch 4/12\n",
      "37500/37500 [==============================] - 4s 116us/step - loss: 0.1553 - accuracy: 0.9383 - val_loss: 0.1709 - val_accuracy: 0.9333\n",
      "Epoch 5/12\n",
      "37500/37500 [==============================] - 4s 116us/step - loss: 0.1560 - accuracy: 0.9383 - val_loss: 0.1716 - val_accuracy: 0.9331\n",
      "Epoch 6/12\n",
      "37500/37500 [==============================] - 4s 116us/step - loss: 0.1544 - accuracy: 0.9392 - val_loss: 0.1708 - val_accuracy: 0.9332\n",
      "Epoch 7/12\n",
      "37500/37500 [==============================] - 4s 116us/step - loss: 0.1546 - accuracy: 0.9390 - val_loss: 0.1709 - val_accuracy: 0.9335\n",
      "Epoch 8/12\n",
      "37500/37500 [==============================] - 4s 116us/step - loss: 0.1542 - accuracy: 0.9390 - val_loss: 0.1703 - val_accuracy: 0.9337\n",
      "Epoch 9/12\n",
      "37500/37500 [==============================] - 4s 116us/step - loss: 0.1542 - accuracy: 0.9392 - val_loss: 0.1702 - val_accuracy: 0.9338\n",
      "Epoch 10/12\n",
      "37500/37500 [==============================] - 4s 116us/step - loss: 0.1541 - accuracy: 0.9393 - val_loss: 0.1701 - val_accuracy: 0.9338\n",
      "Epoch 11/12\n",
      "37500/37500 [==============================] - 4s 115us/step - loss: 0.1540 - accuracy: 0.9393 - val_loss: 0.1693 - val_accuracy: 0.9341\n",
      "Epoch 12/12\n",
      "37500/37500 [==============================] - 4s 117us/step - loss: 0.1535 - accuracy: 0.9396 - val_loss: 0.1692 - val_accuracy: 0.9342\n"
     ]
    },
    {
     "data": {
      "image/png": "[encoded data removed]",
      "text/plain": [
       "<Figure size 432x288 with 1 Axes>"
      ]
     },
     "metadata": {
      "needs_background": "light"
     },
     "output_type": "display_data"
    },
    {
     "data": {
      "image/png": "[encoded data removed]",
      "text/plain": [
       "<Figure size 432x288 with 1 Axes>"
      ]
     },
     "metadata": {
      "needs_background": "light"
     },
     "output_type": "display_data"
    },
    {
     "name": "stdout",
     "output_type": "stream",
     "text": [
      "10000/10000 [==============================] - 1s 80us/step\n",
      "accuracy= 0.9331197142601013 \n",
      "loss= 0.1692422109603882\n"
     ]
    }
   ],
   "source": [
    "ModelCompile('binary_crossentropy')"
   ]
  }
 ],
 "metadata": {
  "colab": {
   "name": "Day71-使用損失函數_HW.ipynb",
   "provenance": [],
   "version": "0.3.2"
  },
  "kernelspec": {
   "display_name": "Python tf2.1",
   "language": "python",
   "name": "tf_2.1"
  },
  "language_info": {
   "codemirror_mode": {
    "name": "ipython",
    "version": 3
   },
   "file_extension": ".py",
   "mimetype": "text/x-python",
   "name": "python",
   "nbconvert_exporter": "python",
   "pygments_lexer": "ipython3",
   "version": "3.7.7"
  }
 },
 "nbformat": 4,
 "nbformat_minor": 1
}
