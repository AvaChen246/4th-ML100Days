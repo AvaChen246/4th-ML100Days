{
 "cells": [
  {
   "cell_type": "markdown",
   "metadata": {},
   "source": [
    "## Work\n",
    "1. 請嘗試將 preproc_x 替換成以每筆資料的 min/max 進行標準化至 -1 ~ 1 間，再進行訓練\n",
    "2. 請嘗試將 mlp 疊更深 (e.g 5~10 層)，進行訓練後觀察 learning curve 的走勢\n",
    "3. (optional) 請改用 GPU 進行訓練 (如果你有 GPU 的話)，比較使用 CPU 與 GPU 的訓練速度"
   ]
  },
  {
   "cell_type": "code",
   "execution_count": 1,
   "metadata": {},
   "outputs": [
    {
     "data": {
      "text/plain": [
       "'\\nYour code here (optional)\\n確認硬體資源\\n'"
      ]
     },
     "execution_count": 1,
     "metadata": {},
     "output_type": "execute_result"
    }
   ],
   "source": [
    "## \n",
    "\"\"\"\n",
    "Your code here (optional)\n",
    "確認硬體資源\n",
    "\"\"\"\n"
   ]
  },
  {
   "cell_type": "code",
   "execution_count": 2,
   "metadata": {},
   "outputs": [
    {
     "name": "stderr",
     "output_type": "stream",
     "text": [
      "Using TensorFlow backend.\n"
     ]
    }
   ],
   "source": [
    "import os\n",
    "import keras\n",
    "\n",
    "# 請嘗試設定 GPU：os.environ\n",
    "os.environ[\"CUDA_VISIBLE_DEVICES\"] = \"0\""
   ]
  },
  {
   "cell_type": "code",
   "execution_count": 3,
   "metadata": {},
   "outputs": [],
   "source": [
    "train, test = keras.datasets.cifar10.load_data()"
   ]
  },
  {
   "cell_type": "code",
   "execution_count": 27,
   "metadata": {},
   "outputs": [],
   "source": [
    "## 資料前處理\n",
    "import numpy as np\n",
    "def preproc_x(x, flatten=True):\n",
    "    x = (((x-x.min()) /(x.max()-x.min()))-0.5)*2\n",
    "#     if flatten:\n",
    "#         x = x.reshape((len(x), -1))\n",
    "    \n",
    "    return x\n",
    "\n",
    "def preproc_y(y, num_classes=10):\n",
    "    if y.shape[-1] == 1:\n",
    "        y = keras.utils.to_categorical(y, num_classes)\n",
    "    return y    "
   ]
  },
  {
   "cell_type": "code",
   "execution_count": 28,
   "metadata": {},
   "outputs": [],
   "source": [
    "x_train, y_train = train\n",
    "x_test, y_test = test\n",
    "\n",
    "# Preproc the inputs\n",
    "x_train = preproc_x(x_train)\n",
    "x_test = preproc_x(x_test)\n",
    "\n",
    "# Preprc the outputs\n",
    "y_train = preproc_y(y_train)\n",
    "y_test = preproc_y(y_test)"
   ]
  },
  {
   "cell_type": "code",
   "execution_count": 29,
   "metadata": {},
   "outputs": [
    {
     "data": {
      "text/plain": [
       "(32, 32, 3)"
      ]
     },
     "execution_count": 29,
     "metadata": {},
     "output_type": "execute_result"
    }
   ],
   "source": [
    "x_train.shape[1:]"
   ]
  },
  {
   "cell_type": "code",
   "execution_count": 38,
   "metadata": {},
   "outputs": [
    {
     "name": "stdout",
     "output_type": "stream",
     "text": [
      "(32, 32, 3)\n",
      "256\n",
      "128\n",
      "64\n",
      "32\n",
      "Model: \"model_2\"\n",
      "_________________________________________________________________\n",
      "Layer (type)                 Output Shape              Param #   \n",
      "=================================================================\n",
      "input_12 (InputLayer)        (None, 32, 32, 3)         0         \n",
      "_________________________________________________________________\n",
      "hidden_layer_Conv2D1 (Conv2D (None, 32, 32, 512)       14336     \n",
      "_________________________________________________________________\n",
      "hidden_layer_MaxPooling2D1 ( (None, 16, 16, 512)       0         \n",
      "_________________________________________________________________\n",
      "hidden_layer_Conv2D2 (Conv2D (None, 16, 16, 256)       1179904   \n",
      "_________________________________________________________________\n",
      "hidden_layer_MaxPooling2D2 ( (None, 8, 8, 256)         0         \n",
      "_________________________________________________________________\n",
      "hidden_layer_Conv2D3 (Conv2D (None, 8, 8, 128)         295040    \n",
      "_________________________________________________________________\n",
      "hidden_layer_MaxPooling2D3 ( (None, 4, 4, 128)         0         \n",
      "_________________________________________________________________\n",
      "hidden_layer_Conv2D4 (Conv2D (None, 4, 4, 64)          73792     \n",
      "_________________________________________________________________\n",
      "hidden_layer_MaxPooling2D4 ( (None, 2, 2, 64)          0         \n",
      "_________________________________________________________________\n",
      "hidden_layer_Conv2D5 (Conv2D (None, 2, 2, 32)          18464     \n",
      "_________________________________________________________________\n",
      "hidden_layer_MaxPooling2D5 ( (None, 1, 1, 32)          0         \n",
      "_________________________________________________________________\n",
      "dropout_7 (Dropout)          (None, 1, 1, 32)          0         \n",
      "_________________________________________________________________\n",
      "flatten_2 (Flatten)          (None, 32)                0         \n",
      "_________________________________________________________________\n",
      "hidden_layer5 (Dense)        (None, 512)               16896     \n",
      "_________________________________________________________________\n",
      "dropout_8 (Dropout)          (None, 512)               0         \n",
      "_________________________________________________________________\n",
      "output (Dense)               (None, 10)                5130      \n",
      "=================================================================\n",
      "Total params: 1,603,562\n",
      "Trainable params: 1,603,562\n",
      "Non-trainable params: 0\n",
      "_________________________________________________________________\n"
     ]
    }
   ],
   "source": [
    "\"\"\"Code Here\n",
    "建立你的神經網路\n",
    "\"\"\"\n",
    "from keras.layers import Input, Dense, Conv2D,Dropout,MaxPooling2D,Flatten\n",
    "from keras.models import Model\n",
    "def build_mlp(input_shape, output_units=10, num_neurons=[512, 256, 128, 64, 32]): #16\n",
    "    print(input_shape)\n",
    "    input_layer = Input(shape=input_shape)   \n",
    "    for i, n_units in enumerate(num_neurons):\n",
    "        if i == 0:\n",
    "            x = Conv2D(n_units, 3, padding='same', activation='relu',name=\"hidden_layer_Conv2D\"+str(i+1))(input_layer)\n",
    "            x = MaxPooling2D(pool_size=(2, 2),name=\"hidden_layer_MaxPooling2D\"+str(i+1))(x)\n",
    "        else:\n",
    "            print(n_units)\n",
    "            x = Conv2D(n_units, 3, padding='same', activation='relu',name=\"hidden_layer_Conv2D\"+str(i+1))(x)\n",
    "            x = MaxPooling2D(pool_size=(2, 2),name=\"hidden_layer_MaxPooling2D\"+str(i+1))(x)\n",
    "            # 到32時downsample以至1,無法在加16\n",
    "    x = Dropout(0.25)(x)\n",
    "    x = Flatten()(x)\n",
    "    x = Dense(units=512, activation=\"relu\", name=\"hidden_layer\"+str(i+1))(x)\n",
    "    x = Dropout(0.25)(x)\n",
    "    out = Dense(units=output_units, activation=\"softmax\", name=\"output\")(x)\n",
    "    \n",
    "    model = keras.models.Model(inputs=[input_layer], outputs=[out])\n",
    "    return model\n",
    "\n",
    "model = build_mlp(input_shape=x_train.shape[1:])\n",
    "model.summary()"
   ]
  },
  {
   "cell_type": "code",
   "execution_count": 39,
   "metadata": {},
   "outputs": [],
   "source": [
    "## 超參數設定\n",
    "LEARNING_RATE = 0.001\n",
    "EPOCHS = 100\n",
    "BATCH_SIZE = 256"
   ]
  },
  {
   "cell_type": "code",
   "execution_count": 40,
   "metadata": {},
   "outputs": [],
   "source": [
    "optimizer = keras.optimizers.Adam(lr=LEARNING_RATE)\n",
    "model.compile(loss=\"categorical_crossentropy\", metrics=[\"accuracy\"], optimizer=optimizer)"
   ]
  },
  {
   "cell_type": "code",
   "execution_count": 41,
   "metadata": {},
   "outputs": [
    {
     "name": "stdout",
     "output_type": "stream",
     "text": [
      "Train on 50000 samples, validate on 10000 samples\n",
      "Epoch 1/100\n",
      "50000/50000 [==============================] - 26s 523us/step - loss: 1.7456 - accuracy: 0.3431 - val_loss: 1.3959 - val_accuracy: 0.4907\n",
      "Epoch 2/100\n",
      "50000/50000 [==============================] - 19s 379us/step - loss: 1.2825 - accuracy: 0.5338 - val_loss: 1.1006 - val_accuracy: 0.6022\n",
      "Epoch 3/100\n",
      "50000/50000 [==============================] - 19s 380us/step - loss: 1.0643 - accuracy: 0.6219 - val_loss: 1.0797 - val_accuracy: 0.6125\n",
      "Epoch 4/100\n",
      "50000/50000 [==============================] - 19s 381us/step - loss: 0.9138 - accuracy: 0.6784 - val_loss: 0.8845 - val_accuracy: 0.6956\n",
      "Epoch 5/100\n",
      "50000/50000 [==============================] - 19s 382us/step - loss: 0.8050 - accuracy: 0.7174 - val_loss: 0.8095 - val_accuracy: 0.7217\n",
      "Epoch 6/100\n",
      "50000/50000 [==============================] - 19s 383us/step - loss: 0.7137 - accuracy: 0.7510 - val_loss: 0.7649 - val_accuracy: 0.7348\n",
      "Epoch 7/100\n",
      "50000/50000 [==============================] - 19s 383us/step - loss: 0.6409 - accuracy: 0.7770 - val_loss: 0.7676 - val_accuracy: 0.7348\n",
      "Epoch 8/100\n",
      "50000/50000 [==============================] - 19s 382us/step - loss: 0.5771 - accuracy: 0.7979 - val_loss: 0.8308 - val_accuracy: 0.7216\n",
      "Epoch 9/100\n",
      "50000/50000 [==============================] - 19s 382us/step - loss: 0.5171 - accuracy: 0.8205 - val_loss: 0.7232 - val_accuracy: 0.7552\n",
      "Epoch 10/100\n",
      "50000/50000 [==============================] - 19s 382us/step - loss: 0.4657 - accuracy: 0.8405 - val_loss: 0.7392 - val_accuracy: 0.7532\n",
      "Epoch 11/100\n",
      "50000/50000 [==============================] - 19s 382us/step - loss: 0.4209 - accuracy: 0.8527 - val_loss: 0.7164 - val_accuracy: 0.7599\n",
      "Epoch 12/100\n",
      "50000/50000 [==============================] - 19s 382us/step - loss: 0.3834 - accuracy: 0.8664 - val_loss: 0.7668 - val_accuracy: 0.7603\n",
      "Epoch 13/100\n",
      "50000/50000 [==============================] - 19s 382us/step - loss: 0.3505 - accuracy: 0.8797 - val_loss: 0.7355 - val_accuracy: 0.7664\n",
      "Epoch 14/100\n",
      "50000/50000 [==============================] - 19s 382us/step - loss: 0.3144 - accuracy: 0.8910 - val_loss: 0.7259 - val_accuracy: 0.7689\n",
      "Epoch 15/100\n",
      "50000/50000 [==============================] - 19s 382us/step - loss: 0.2837 - accuracy: 0.9012 - val_loss: 0.7676 - val_accuracy: 0.7757\n",
      "Epoch 16/100\n",
      "50000/50000 [==============================] - 19s 382us/step - loss: 0.2530 - accuracy: 0.9106 - val_loss: 0.7992 - val_accuracy: 0.7693\n",
      "Epoch 17/100\n",
      "50000/50000 [==============================] - 19s 382us/step - loss: 0.2358 - accuracy: 0.9187 - val_loss: 0.8703 - val_accuracy: 0.7648\n",
      "Epoch 18/100\n",
      "50000/50000 [==============================] - 19s 382us/step - loss: 0.2117 - accuracy: 0.9258 - val_loss: 0.8681 - val_accuracy: 0.7583\n",
      "Epoch 19/100\n",
      "50000/50000 [==============================] - 19s 383us/step - loss: 0.2065 - accuracy: 0.9280 - val_loss: 0.8568 - val_accuracy: 0.7635\n",
      "Epoch 20/100\n",
      "50000/50000 [==============================] - 19s 382us/step - loss: 0.1765 - accuracy: 0.9402 - val_loss: 0.9002 - val_accuracy: 0.7713\n",
      "Epoch 21/100\n",
      "50000/50000 [==============================] - 19s 383us/step - loss: 0.1656 - accuracy: 0.9434 - val_loss: 0.9170 - val_accuracy: 0.7692\n",
      "Epoch 22/100\n",
      "50000/50000 [==============================] - 19s 382us/step - loss: 0.1578 - accuracy: 0.9452 - val_loss: 0.9688 - val_accuracy: 0.7541\n",
      "Epoch 23/100\n",
      "50000/50000 [==============================] - 19s 383us/step - loss: 0.1469 - accuracy: 0.9497 - val_loss: 0.9369 - val_accuracy: 0.7659\n",
      "Epoch 24/100\n",
      "50000/50000 [==============================] - 19s 382us/step - loss: 0.1363 - accuracy: 0.9536 - val_loss: 0.9265 - val_accuracy: 0.7657\n",
      "Epoch 25/100\n",
      "50000/50000 [==============================] - 19s 382us/step - loss: 0.1255 - accuracy: 0.9568 - val_loss: 0.9335 - val_accuracy: 0.7697\n",
      "Epoch 26/100\n",
      "50000/50000 [==============================] - 19s 382us/step - loss: 0.1206 - accuracy: 0.9582 - val_loss: 0.9891 - val_accuracy: 0.7702\n",
      "Epoch 27/100\n",
      "50000/50000 [==============================] - 19s 383us/step - loss: 0.1093 - accuracy: 0.9628 - val_loss: 1.0510 - val_accuracy: 0.7560\n",
      "Epoch 28/100\n",
      "50000/50000 [==============================] - 19s 382us/step - loss: 0.1159 - accuracy: 0.9607 - val_loss: 0.9697 - val_accuracy: 0.7716\n",
      "Epoch 29/100\n",
      "50000/50000 [==============================] - 19s 381us/step - loss: 0.1085 - accuracy: 0.9638 - val_loss: 0.9854 - val_accuracy: 0.7686\n",
      "Epoch 30/100\n",
      "50000/50000 [==============================] - 19s 383us/step - loss: 0.1003 - accuracy: 0.9649 - val_loss: 0.9806 - val_accuracy: 0.7636\n",
      "Epoch 31/100\n",
      "50000/50000 [==============================] - 19s 383us/step - loss: 0.0912 - accuracy: 0.9693 - val_loss: 0.9361 - val_accuracy: 0.7698\n",
      "Epoch 32/100\n",
      "50000/50000 [==============================] - 19s 383us/step - loss: 0.0946 - accuracy: 0.9683 - val_loss: 1.0055 - val_accuracy: 0.7672\n",
      "Epoch 33/100\n",
      "50000/50000 [==============================] - 19s 382us/step - loss: 0.0854 - accuracy: 0.9712 - val_loss: 1.0481 - val_accuracy: 0.7620\n",
      "Epoch 34/100\n",
      "50000/50000 [==============================] - 19s 382us/step - loss: 0.0933 - accuracy: 0.9688 - val_loss: 1.0286 - val_accuracy: 0.7700\n",
      "Epoch 35/100\n",
      "50000/50000 [==============================] - 19s 382us/step - loss: 0.0848 - accuracy: 0.9723 - val_loss: 1.0364 - val_accuracy: 0.7655\n",
      "Epoch 36/100\n",
      "50000/50000 [==============================] - 19s 382us/step - loss: 0.0841 - accuracy: 0.9711 - val_loss: 1.0656 - val_accuracy: 0.7606\n",
      "Epoch 37/100\n",
      "50000/50000 [==============================] - 19s 383us/step - loss: 0.0890 - accuracy: 0.9707 - val_loss: 1.0231 - val_accuracy: 0.7683\n",
      "Epoch 38/100\n",
      "50000/50000 [==============================] - 19s 383us/step - loss: 0.0861 - accuracy: 0.9714 - val_loss: 1.0195 - val_accuracy: 0.7663\n",
      "Epoch 39/100\n",
      "50000/50000 [==============================] - 19s 383us/step - loss: 0.0706 - accuracy: 0.9768 - val_loss: 1.0988 - val_accuracy: 0.7655\n",
      "Epoch 40/100\n",
      "50000/50000 [==============================] - 19s 382us/step - loss: 0.0806 - accuracy: 0.9729 - val_loss: 1.0091 - val_accuracy: 0.7704\n",
      "Epoch 41/100\n",
      "50000/50000 [==============================] - 19s 382us/step - loss: 0.0691 - accuracy: 0.9770 - val_loss: 1.1038 - val_accuracy: 0.7691\n",
      "Epoch 42/100\n",
      "50000/50000 [==============================] - 19s 382us/step - loss: 0.0685 - accuracy: 0.9773 - val_loss: 1.0305 - val_accuracy: 0.7731\n",
      "Epoch 43/100\n",
      "50000/50000 [==============================] - 19s 382us/step - loss: 0.0719 - accuracy: 0.9765 - val_loss: 1.1210 - val_accuracy: 0.7591\n",
      "Epoch 44/100\n",
      "50000/50000 [==============================] - 19s 381us/step - loss: 0.0670 - accuracy: 0.9786 - val_loss: 1.0600 - val_accuracy: 0.7672\n",
      "Epoch 45/100\n",
      "50000/50000 [==============================] - 19s 382us/step - loss: 0.0643 - accuracy: 0.9785 - val_loss: 1.1728 - val_accuracy: 0.7638\n",
      "Epoch 46/100\n",
      "50000/50000 [==============================] - 19s 381us/step - loss: 0.0782 - accuracy: 0.9746 - val_loss: 1.1022 - val_accuracy: 0.7675\n",
      "Epoch 47/100\n",
      "50000/50000 [==============================] - 19s 382us/step - loss: 0.0701 - accuracy: 0.9778 - val_loss: 0.9997 - val_accuracy: 0.7675\n",
      "Epoch 48/100\n",
      "50000/50000 [==============================] - 19s 382us/step - loss: 0.0657 - accuracy: 0.9787 - val_loss: 1.0345 - val_accuracy: 0.7696\n",
      "Epoch 49/100\n",
      "50000/50000 [==============================] - 19s 382us/step - loss: 0.0567 - accuracy: 0.9822 - val_loss: 1.0906 - val_accuracy: 0.7660\n",
      "Epoch 50/100\n",
      "50000/50000 [==============================] - 19s 381us/step - loss: 0.0660 - accuracy: 0.9789 - val_loss: 1.0698 - val_accuracy: 0.7598\n",
      "Epoch 51/100\n",
      "50000/50000 [==============================] - 19s 382us/step - loss: 0.0558 - accuracy: 0.9823 - val_loss: 1.0596 - val_accuracy: 0.7668\n",
      "Epoch 52/100\n",
      "50000/50000 [==============================] - 19s 382us/step - loss: 0.0655 - accuracy: 0.9791 - val_loss: 1.1160 - val_accuracy: 0.7698\n",
      "Epoch 53/100\n",
      "50000/50000 [==============================] - 19s 382us/step - loss: 0.0523 - accuracy: 0.9828 - val_loss: 1.1665 - val_accuracy: 0.7631\n",
      "Epoch 54/100\n",
      "50000/50000 [==============================] - 19s 382us/step - loss: 0.0556 - accuracy: 0.9824 - val_loss: 1.1140 - val_accuracy: 0.7627\n"
     ]
    },
    {
     "name": "stdout",
     "output_type": "stream",
     "text": [
      "Epoch 55/100\n",
      "50000/50000 [==============================] - 19s 383us/step - loss: 0.0697 - accuracy: 0.9774 - val_loss: 1.1058 - val_accuracy: 0.7699\n",
      "Epoch 56/100\n",
      "50000/50000 [==============================] - 19s 383us/step - loss: 0.0597 - accuracy: 0.9806 - val_loss: 1.0663 - val_accuracy: 0.7783\n",
      "Epoch 57/100\n",
      "50000/50000 [==============================] - 19s 382us/step - loss: 0.0550 - accuracy: 0.9825 - val_loss: 1.0777 - val_accuracy: 0.7613\n",
      "Epoch 58/100\n",
      "50000/50000 [==============================] - 19s 381us/step - loss: 0.0527 - accuracy: 0.9843 - val_loss: 1.1179 - val_accuracy: 0.7668\n",
      "Epoch 59/100\n",
      "50000/50000 [==============================] - 19s 382us/step - loss: 0.0499 - accuracy: 0.9844 - val_loss: 1.0841 - val_accuracy: 0.7676\n",
      "Epoch 60/100\n",
      "50000/50000 [==============================] - 19s 382us/step - loss: 0.0606 - accuracy: 0.9810 - val_loss: 1.0488 - val_accuracy: 0.7668\n",
      "Epoch 61/100\n",
      "50000/50000 [==============================] - 19s 382us/step - loss: 0.0525 - accuracy: 0.9830 - val_loss: 1.1250 - val_accuracy: 0.7704\n",
      "Epoch 62/100\n",
      "50000/50000 [==============================] - 19s 383us/step - loss: 0.0577 - accuracy: 0.9813 - val_loss: 1.0456 - val_accuracy: 0.7652\n",
      "Epoch 63/100\n",
      "50000/50000 [==============================] - 19s 383us/step - loss: 0.0485 - accuracy: 0.9852 - val_loss: 1.1122 - val_accuracy: 0.7755\n",
      "Epoch 64/100\n",
      "50000/50000 [==============================] - 19s 383us/step - loss: 0.0497 - accuracy: 0.9850 - val_loss: 1.2339 - val_accuracy: 0.7585\n",
      "Epoch 65/100\n",
      "50000/50000 [==============================] - 19s 382us/step - loss: 0.0547 - accuracy: 0.9820 - val_loss: 1.1547 - val_accuracy: 0.7648\n",
      "Epoch 66/100\n",
      "50000/50000 [==============================] - 19s 383us/step - loss: 0.0483 - accuracy: 0.9844 - val_loss: 1.1701 - val_accuracy: 0.7689\n",
      "Epoch 67/100\n",
      "50000/50000 [==============================] - 19s 382us/step - loss: 0.0583 - accuracy: 0.9819 - val_loss: 1.1250 - val_accuracy: 0.7643\n",
      "Epoch 68/100\n",
      "50000/50000 [==============================] - 19s 382us/step - loss: 0.0395 - accuracy: 0.9877 - val_loss: 1.1883 - val_accuracy: 0.7745\n",
      "Epoch 69/100\n",
      "50000/50000 [==============================] - 19s 381us/step - loss: 0.0533 - accuracy: 0.9836 - val_loss: 1.2023 - val_accuracy: 0.7631\n",
      "Epoch 70/100\n",
      "50000/50000 [==============================] - 19s 381us/step - loss: 0.0527 - accuracy: 0.9836 - val_loss: 1.1141 - val_accuracy: 0.7740\n",
      "Epoch 71/100\n",
      "50000/50000 [==============================] - 19s 382us/step - loss: 0.0435 - accuracy: 0.9864 - val_loss: 1.1583 - val_accuracy: 0.7734\n",
      "Epoch 72/100\n",
      "50000/50000 [==============================] - 19s 382us/step - loss: 0.0492 - accuracy: 0.9852 - val_loss: 1.1115 - val_accuracy: 0.7641\n",
      "Epoch 73/100\n",
      "50000/50000 [==============================] - 19s 382us/step - loss: 0.0502 - accuracy: 0.9843 - val_loss: 1.1002 - val_accuracy: 0.7680\n",
      "Epoch 74/100\n",
      "50000/50000 [==============================] - 19s 381us/step - loss: 0.0461 - accuracy: 0.9862 - val_loss: 1.1604 - val_accuracy: 0.7645\n",
      "Epoch 75/100\n",
      "50000/50000 [==============================] - 19s 382us/step - loss: 0.0504 - accuracy: 0.9851 - val_loss: 1.1329 - val_accuracy: 0.7708\n",
      "Epoch 76/100\n",
      "50000/50000 [==============================] - 19s 382us/step - loss: 0.0472 - accuracy: 0.9857 - val_loss: 1.1335 - val_accuracy: 0.7682\n",
      "Epoch 77/100\n",
      "50000/50000 [==============================] - 19s 381us/step - loss: 0.0479 - accuracy: 0.9850 - val_loss: 1.0895 - val_accuracy: 0.7635\n",
      "Epoch 78/100\n",
      "50000/50000 [==============================] - 19s 382us/step - loss: 0.0427 - accuracy: 0.9872 - val_loss: 1.1871 - val_accuracy: 0.7740\n",
      "Epoch 79/100\n",
      "50000/50000 [==============================] - 19s 382us/step - loss: 0.0505 - accuracy: 0.9840 - val_loss: 1.0706 - val_accuracy: 0.7740\n",
      "Epoch 80/100\n",
      "50000/50000 [==============================] - 19s 381us/step - loss: 0.0464 - accuracy: 0.9856 - val_loss: 1.1498 - val_accuracy: 0.7662\n",
      "Epoch 81/100\n",
      "50000/50000 [==============================] - 19s 381us/step - loss: 0.0475 - accuracy: 0.9856 - val_loss: 1.1250 - val_accuracy: 0.7624\n",
      "Epoch 82/100\n",
      "50000/50000 [==============================] - 19s 382us/step - loss: 0.0481 - accuracy: 0.9852 - val_loss: 1.1212 - val_accuracy: 0.7705\n",
      "Epoch 83/100\n",
      "50000/50000 [==============================] - 19s 383us/step - loss: 0.0513 - accuracy: 0.9841 - val_loss: 1.1760 - val_accuracy: 0.7711\n",
      "Epoch 84/100\n",
      "50000/50000 [==============================] - 19s 381us/step - loss: 0.0463 - accuracy: 0.9856 - val_loss: 1.2004 - val_accuracy: 0.7652\n",
      "Epoch 85/100\n",
      "50000/50000 [==============================] - 19s 382us/step - loss: 0.0443 - accuracy: 0.9862 - val_loss: 1.2333 - val_accuracy: 0.7636\n",
      "Epoch 86/100\n",
      "50000/50000 [==============================] - 19s 382us/step - loss: 0.0431 - accuracy: 0.9866 - val_loss: 1.1891 - val_accuracy: 0.7625\n",
      "Epoch 87/100\n",
      "50000/50000 [==============================] - 19s 382us/step - loss: 0.0548 - accuracy: 0.9832 - val_loss: 1.1600 - val_accuracy: 0.7628\n",
      "Epoch 88/100\n",
      "50000/50000 [==============================] - 19s 382us/step - loss: 0.0366 - accuracy: 0.9892 - val_loss: 1.2208 - val_accuracy: 0.7696\n",
      "Epoch 89/100\n",
      "50000/50000 [==============================] - 19s 381us/step - loss: 0.0363 - accuracy: 0.9888 - val_loss: 1.2062 - val_accuracy: 0.7611\n",
      "Epoch 90/100\n",
      "50000/50000 [==============================] - 19s 382us/step - loss: 0.0435 - accuracy: 0.9871 - val_loss: 1.1896 - val_accuracy: 0.7670\n",
      "Epoch 91/100\n",
      "50000/50000 [==============================] - 19s 382us/step - loss: 0.0380 - accuracy: 0.9885 - val_loss: 1.2811 - val_accuracy: 0.7610\n",
      "Epoch 92/100\n",
      "50000/50000 [==============================] - 19s 382us/step - loss: 0.0427 - accuracy: 0.9874 - val_loss: 1.1597 - val_accuracy: 0.7723\n",
      "Epoch 93/100\n",
      "50000/50000 [==============================] - 19s 382us/step - loss: 0.0507 - accuracy: 0.9853 - val_loss: 1.2102 - val_accuracy: 0.7669\n",
      "Epoch 94/100\n",
      "50000/50000 [==============================] - 19s 382us/step - loss: 0.0490 - accuracy: 0.9854 - val_loss: 1.1889 - val_accuracy: 0.7592\n",
      "Epoch 95/100\n",
      "50000/50000 [==============================] - 19s 381us/step - loss: 0.0387 - accuracy: 0.9882 - val_loss: 1.1991 - val_accuracy: 0.7659\n",
      "Epoch 96/100\n",
      "50000/50000 [==============================] - 19s 382us/step - loss: 0.0363 - accuracy: 0.9892 - val_loss: 1.1780 - val_accuracy: 0.7616\n",
      "Epoch 97/100\n",
      "50000/50000 [==============================] - 19s 382us/step - loss: 0.0345 - accuracy: 0.9894 - val_loss: 1.1675 - val_accuracy: 0.7682\n",
      "Epoch 98/100\n",
      "50000/50000 [==============================] - 19s 381us/step - loss: 0.0412 - accuracy: 0.9881 - val_loss: 1.2649 - val_accuracy: 0.7668\n",
      "Epoch 99/100\n",
      "50000/50000 [==============================] - 19s 381us/step - loss: 0.0398 - accuracy: 0.9880 - val_loss: 1.2231 - val_accuracy: 0.7659\n",
      "Epoch 100/100\n",
      "50000/50000 [==============================] - 19s 380us/step - loss: 0.0457 - accuracy: 0.9868 - val_loss: 1.1609 - val_accuracy: 0.7676\n"
     ]
    },
    {
     "data": {
      "text/plain": [
       "<keras.callbacks.callbacks.History at 0x2361b352908>"
      ]
     },
     "execution_count": 41,
     "metadata": {},
     "output_type": "execute_result"
    }
   ],
   "source": [
    "model.fit(x_train, y_train, \n",
    "          epochs=EPOCHS, \n",
    "          batch_size=BATCH_SIZE, \n",
    "          validation_data=(x_test, y_test), \n",
    "          shuffle=True)"
   ]
  },
  {
   "cell_type": "code",
   "execution_count": 42,
   "metadata": {},
   "outputs": [
    {
     "data": {
      "image/png": "[encoded data removed]",
      "text/plain": [
       "<Figure size 432x288 with 1 Axes>"
      ]
     },
     "metadata": {
      "needs_background": "light"
     },
     "output_type": "display_data"
    },
    {
     "data": {
      "image/png": "[encoded data removed]",
      "text/plain": [
       "<Figure size 432x288 with 1 Axes>"
      ]
     },
     "metadata": {
      "needs_background": "light"
     },
     "output_type": "display_data"
    }
   ],
   "source": [
    "import matplotlib.pyplot as plt\n",
    "\n",
    "\n",
    "train_loss = model.history.history[\"loss\"]\n",
    "valid_loss = model.history.history[\"val_loss\"]\n",
    "\n",
    "train_acc = model.history.history[\"accuracy\"]\n",
    "valid_acc = model.history.history[\"val_accuracy\"]\n",
    "\n",
    "plt.plot(range(len(train_loss)), train_loss, label=\"train loss\")\n",
    "plt.plot(range(len(valid_loss)), valid_loss, label=\"valid loss\")\n",
    "plt.legend()\n",
    "plt.title(\"Loss\")\n",
    "plt.show()\n",
    "\n",
    "plt.plot(range(len(train_acc)), train_acc, label=\"train accuracy\")\n",
    "plt.plot(range(len(valid_acc)), valid_acc, label=\"valid accuracy\")\n",
    "plt.legend()\n",
    "plt.title(\"Accuracy\")\n",
    "plt.show()"
   ]
  }
 ],
 "metadata": {
  "kernelspec": {
   "display_name": "Python tf2.1",
   "language": "python",
   "name": "tf_2.1"
  },
  "language_info": {
   "codemirror_mode": {
    "name": "ipython",
    "version": 3
   },
   "file_extension": ".py",
   "mimetype": "text/x-python",
   "name": "python",
   "nbconvert_exporter": "python",
   "pygments_lexer": "ipython3",
   "version": "3.7.7"
  }
 },
 "nbformat": 4,
 "nbformat_minor": 2
}
